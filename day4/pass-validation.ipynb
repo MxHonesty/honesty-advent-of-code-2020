{
 "cells": [
  {
   "cell_type": "markdown",
   "metadata": {},
   "source": [
    "# Count the number of valid passports - those that have all required fields and valid values. Continue to treat cid as optional. In your batch file, how many passports are valid?\n",
    "\n",
    "The line is moving more quickly now, but you overhear airport security talking about how passports with invalid data are getting through. Better add some data validation, quick!\n",
    "\n",
    "You can continue to ignore the cid field, but each other field has strict rules about what values are valid for automatic validation:\n",
    "\n",
    "    byr (Birth Year) - four digits; at least 1920 and at most 2002.\n",
    "    iyr (Issue Year) - four digits; at least 2010 and at most 2020.\n",
    "    eyr (Expiration Year) - four digits; at least 2020 and at most 2030.\n",
    "    hgt (Height) - a number followed by either cm or in:\n",
    "        If cm, the number must be at least 150 and at most 193.\n",
    "        If in, the number must be at least 59 and at most 76.\n",
    "    hcl (Hair Color) - a # followed by exactly six characters 0-9 or a-f.\n",
    "    ecl (Eye Color) - exactly one of: amb blu brn gry grn hzl oth.\n",
    "    pid (Passport ID) - a nine-digit number, including leading zeroes.\n",
    "    cid (Country ID) - ignored, missing or not.\n",
    "\n",
    "Your job is to count the passports where all required fields are both present and valid according to the above rules. Here are some example values:"
   ]
  },
  {
   "cell_type": "code",
   "execution_count": 1,
   "metadata": {},
   "outputs": [],
   "source": [
    "input_data = []\n",
    "with open(\"input.txt\") as f:\n",
    "    input_data = [line.replace(\"\\n\", \"\") for line in f.readlines()]"
   ]
  },
  {
   "cell_type": "code",
   "execution_count": 2,
   "metadata": {},
   "outputs": [],
   "source": [
    "working_data = []\n",
    "mesaj = \"\"\n",
    "for el in input_data:\n",
    "    if el != \"\":\n",
    "        mesaj += el + \" \"\n",
    "    else:\n",
    "        working_data.append(mesaj)\n",
    "        mesaj = \"\"\n",
    "working_data.append(mesaj)"
   ]
  },
  {
   "cell_type": "code",
   "execution_count": 3,
   "metadata": {},
   "outputs": [
    {
     "data": {
      "text/plain": [
       "['byr:1971 iyr:2017 hgt:160cm eyr:2020 ecl:hzl pid:157096267 ',\n",
       " 'hgt:183cm pid:368895060 ecl:oth eyr:2020 iyr:2013 byr:1966 ',\n",
       " 'ecl:lzr cid:279 pid:192cm hcl:1f7352 iyr:2014 hgt:70cm eyr:1983 byr:2004 ',\n",
       " 'hcl:#602927 iyr:2018 byr:1938 ecl:blu eyr:2024 hgt:172cm pid:839621424 ',\n",
       " 'ecl:#12f268 hcl:#6b5442 iyr:2012 byr:2011 eyr:1933 pid:189cm hgt:155in ']"
      ]
     },
     "execution_count": 3,
     "metadata": {},
     "output_type": "execute_result"
    }
   ],
   "source": [
    "working_data[:5]"
   ]
  },
  {
   "cell_type": "code",
   "execution_count": 4,
   "metadata": {},
   "outputs": [],
   "source": [
    "def get_data(text):\n",
    "    \"\"\" Generate a dict with the values of each passport. \"\"\"\n",
    "    values = {\"byr\": \"\", \"iyr\": \"\", \"eyr\": \"\", \"hgt\": \"\", \"hcl\": \"\", \"ecl\": \"\", \"pid\": \"\"}\n",
    "    text = text.split()\n",
    "    for el in values:\n",
    "        cautat = el + \":\" \n",
    "        for data in text:\n",
    "            if cautat in data:\n",
    "                values[el] = data.replace(cautat, \"\")\n",
    "    return values"
   ]
  },
  {
   "cell_type": "code",
   "execution_count": 5,
   "metadata": {},
   "outputs": [
    {
     "data": {
      "text/plain": [
       "{'byr': '1971',\n",
       " 'iyr': '2017',\n",
       " 'eyr': '2020',\n",
       " 'hgt': '160cm',\n",
       " 'hcl': '',\n",
       " 'ecl': 'hzl',\n",
       " 'pid': '157096267'}"
      ]
     },
     "execution_count": 5,
     "metadata": {},
     "output_type": "execute_result"
    }
   ],
   "source": [
    "get_data(\"byr:1971 iyr:2017 hgt:160cm eyr:2020 ecl:hzl pid:157096267 \")"
   ]
  },
  {
   "cell_type": "code",
   "execution_count": 6,
   "metadata": {},
   "outputs": [],
   "source": [
    "def has_required(values):\n",
    "    \"\"\" Input: dict o values. Returns true if it contains ALL needed values. \"\"\"\n",
    "    for el in values:\n",
    "        if values[el] == \"\":\n",
    "            return False\n",
    "    return True"
   ]
  },
  {
   "cell_type": "markdown",
   "metadata": {},
   "source": [
    "Writing the validation functions for each condition. They return True if the string is valid, False otherwise."
   ]
  },
  {
   "cell_type": "code",
   "execution_count": 7,
   "metadata": {},
   "outputs": [],
   "source": [
    "def validate_birthday(birthday):\n",
    "    if len(birthday) != 4:\n",
    "        return False\n",
    "    try:\n",
    "        birthday = int(birthday)\n",
    "    except ValueError:\n",
    "        return False\n",
    "    if not 1920 <= birthday <= 2002:\n",
    "        return False\n",
    "    return True\n",
    "    "
   ]
  },
  {
   "cell_type": "code",
   "execution_count": 8,
   "metadata": {},
   "outputs": [],
   "source": [
    "def validate_issueyear(issueyear):\n",
    "    if len(issueyear) != 4:\n",
    "        return False\n",
    "    try:\n",
    "        issueyear = int(issueyear)\n",
    "    except ValueError:\n",
    "        return False\n",
    "    if not 2010 <= issueyear <= 2020:\n",
    "        return False\n",
    "    return True"
   ]
  },
  {
   "cell_type": "code",
   "execution_count": 9,
   "metadata": {},
   "outputs": [],
   "source": [
    "def validate_expyear(expyear):\n",
    "    if len(expyear) != 4:\n",
    "        return False\n",
    "    try:\n",
    "        expyear = int(expyear)\n",
    "    except ValueError:\n",
    "        return False\n",
    "    if not 2020 <= expyear <= 2030:\n",
    "        return False\n",
    "    return True"
   ]
  },
  {
   "cell_type": "code",
   "execution_count": 10,
   "metadata": {},
   "outputs": [],
   "source": [
    "def validate_height(height):\n",
    "    number = height[:-2]\n",
    "    height = height.replace(number, \"\")\n",
    "    try:\n",
    "        number = int(number)\n",
    "    except ValueError:\n",
    "        return False\n",
    "    if height == \"cm\":\n",
    "        if not 150 <= number <= 193:\n",
    "            return False\n",
    "    elif height == \"in\":\n",
    "        if not 59 <= number <= 76:\n",
    "            return False\n",
    "    else:\n",
    "        return False\n",
    "    return True"
   ]
  },
  {
   "cell_type": "code",
   "execution_count": 11,
   "metadata": {},
   "outputs": [],
   "source": [
    "def validate_haircolor(hair_color):\n",
    "    if hair_color[0] != \"#\":\n",
    "        return False\n",
    "    hair_color = hair_color[1:]\n",
    "    permited = \"0123456789abcdef\"\n",
    "    for char in hair_color:\n",
    "        if char not in permited:\n",
    "            return False\n",
    "    return True"
   ]
  },
  {
   "cell_type": "code",
   "execution_count": 12,
   "metadata": {},
   "outputs": [],
   "source": [
    "def validate_eye_color(eye_color):\n",
    "    permited = [\"amb\", \"blu\", \"brn\", \"gry\", \"grn\", \"hzl\", \"oth\"]\n",
    "    return eye_color in permited"
   ]
  },
  {
   "cell_type": "code",
   "execution_count": 13,
   "metadata": {},
   "outputs": [],
   "source": [
    "def validate_passport(passport):\n",
    "    if len(passport) != 9:\n",
    "        return False\n",
    "    try:\n",
    "        int(passport)\n",
    "    except ValueError:\n",
    "        return False\n",
    "    return True"
   ]
  },
  {
   "cell_type": "markdown",
   "metadata": {},
   "source": [
    "Create a validation pipeline for a single values dict."
   ]
  },
  {
   "cell_type": "code",
   "execution_count": 14,
   "metadata": {},
   "outputs": [],
   "source": [
    "def validation(values):\n",
    "    return has_required(values) and validate_birthday(values[\"byr\"]) and validate_issueyear(values[\"iyr\"]) and \\\n",
    "        validate_expyear(values[\"eyr\"]) and validate_height(values[\"hgt\"]) and validate_haircolor(values[\"hcl\"]) and \\\n",
    "            validate_eye_color(values[\"ecl\"]) and validate_passport(values[\"pid\"])"
   ]
  },
  {
   "cell_type": "code",
   "execution_count": 15,
   "metadata": {},
   "outputs": [],
   "source": [
    "contor = 0\n",
    "for el in working_data:\n",
    "    values = get_data(el)\n",
    "    if validation(values):\n",
    "        contor += 1"
   ]
  },
  {
   "cell_type": "code",
   "execution_count": 16,
   "metadata": {},
   "outputs": [
    {
     "data": {
      "text/plain": [
       "109"
      ]
     },
     "execution_count": 16,
     "metadata": {},
     "output_type": "execute_result"
    }
   ],
   "source": [
    "contor"
   ]
  }
 ],
 "metadata": {
  "kernelspec": {
   "display_name": "Python 3",
   "language": "python",
   "name": "python3"
  },
  "language_info": {
   "codemirror_mode": {
    "name": "ipython",
    "version": 3
   },
   "file_extension": ".py",
   "mimetype": "text/x-python",
   "name": "python",
   "nbconvert_exporter": "python",
   "pygments_lexer": "ipython3",
   "version": "3.7.2"
  }
 },
 "nbformat": 4,
 "nbformat_minor": 4
}
