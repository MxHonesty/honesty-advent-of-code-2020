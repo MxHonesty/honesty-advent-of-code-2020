{
 "cells": [
  {
   "cell_type": "markdown",
   "metadata": {},
   "source": [
    "# How many bag colors can eventually contain at least one shiny gold bag? (The list of rules is quite long; make sure you get all of it.)\n",
    "\n",
    "You land at the regional airport in time for your next flight. In fact, it looks like you'll even have time to grab some food: all flights are currently delayed due to issues in luggage processing.\n",
    "\n",
    "Due to recent aviation regulations, many rules (your puzzle input) are being enforced about bags and their contents; bags must be color-coded and must contain specific quantities of other color-coded bags. Apparently, nobody responsible for these regulations considered how long they would take to enforce!\n",
    "\n",
    "For example, consider the following rules:\n",
    "\n",
    "light red bags contain 1 bright white bag, 2 muted yellow bags.\n",
    "dark orange bags contain 3 bright white bags, 4 muted yellow bags.\n",
    "bright white bags contain 1 shiny gold bag.\n",
    "muted yellow bags contain 2 shiny gold bags, 9 faded blue bags.\n",
    "shiny gold bags contain 1 dark olive bag, 2 vibrant plum bags.\n",
    "dark olive bags contain 3 faded blue bags, 4 dotted black bags.\n",
    "vibrant plum bags contain 5 faded blue bags, 6 dotted black bags.\n",
    "faded blue bags contain no other bags.\n",
    "dotted black bags contain no other bags.\n",
    "\n",
    "These rules specify the required contents for 9 bag types. In this example, every faded blue bag is empty, every vibrant plum bag contains 11 bags (5 faded blue and 6 dotted black), and so on.\n",
    "\n",
    "You have a shiny gold bag. If you wanted to carry it in at least one other bag, how many different bag colors would be valid for the outermost bag? (In other words: how many colors can, eventually, contain at least one shiny gold bag?)\n",
    "\n",
    "In the above rules, the following options would be available to you:\n",
    "\n",
    "    A bright white bag, which can hold your shiny gold bag directly.\n",
    "    A muted yellow bag, which can hold your shiny gold bag directly, plus some other bags.\n",
    "    A dark orange bag, which can hold bright white and muted yellow bags, either of which could then hold your shiny gold bag.\n",
    "    A light red bag, which can hold bright white and muted yellow bags, either of which could then hold your shiny gold bag.\n",
    "\n",
    "So, in this example, the number of bag colors that can eventually contain at least one shiny gold bag is 4.\n"
   ]
  },
  {
   "cell_type": "code",
   "execution_count": 1,
   "metadata": {},
   "outputs": [],
   "source": [
    "input_data = []\n",
    "with open(\"input.txt\") as f:\n",
    "    input_data = [line.replace(\"\\n\", \"\") for line in f.readlines()]"
   ]
  },
  {
   "cell_type": "code",
   "execution_count": 2,
   "metadata": {
    "scrolled": true
   },
   "outputs": [
    {
     "data": {
      "text/plain": [
       "['dark maroon bags contain 2 striped silver bags, 4 mirrored maroon bags, 5 shiny gold bags, 1 dotted gold bag.',\n",
       " 'dark coral bags contain 4 pale blue bags, 3 wavy yellow bags, 4 vibrant tan bags, 3 striped purple bags.',\n",
       " 'striped aqua bags contain 1 pale aqua bag, 2 muted yellow bags, 4 pale maroon bags, 2 shiny coral bags.',\n",
       " 'wavy coral bags contain 4 pale purple bags, 2 bright olive bags.',\n",
       " 'bright aqua bags contain 5 mirrored purple bags, 1 dull maroon bag.']"
      ]
     },
     "execution_count": 2,
     "metadata": {},
     "output_type": "execute_result"
    }
   ],
   "source": [
    "input_data[:5]"
   ]
  },
  {
   "cell_type": "code",
   "execution_count": 3,
   "metadata": {},
   "outputs": [],
   "source": [
    "def get_data(text):\n",
    "    \"\"\" Returns big bag and Types of bag in string. \"\"\"\n",
    "    big_bag = \"\"\n",
    "    types_bag = []\n",
    "    text = text.split(\" contain \")\n",
    "    big_bag = text[0]\n",
    "    types_bag = text[1].split(\", \")\n",
    "    types_bag = [bag[2:].replace(\".\", \"\") for bag in types_bag]\n",
    "    \n",
    "    if big_bag[len(big_bag) - 1] == \"s\":\n",
    "        big_bag = big_bag[:-1]\n",
    "        \n",
    "    for i in range(len(types_bag)):\n",
    "        if types_bag[i][len(types_bag[i]) - 1] == \"s\":\n",
    "            types_bag[i] = types_bag[i][:-1]\n",
    "            \n",
    "    return big_bag, types_bag"
   ]
  },
  {
   "cell_type": "code",
   "execution_count": 4,
   "metadata": {},
   "outputs": [],
   "source": [
    "contains_list = [\"shiny gold bag\"]\n",
    "i = 0\n",
    "while i < len(input_data):\n",
    "    bag, types = get_data(input_data[i])\n",
    "    for sac in contains_list:\n",
    "        if sac in types:\n",
    "            if bag not in contains_list:\n",
    "                contains_list.append(bag)\n",
    "                i = -1\n",
    "                break\n",
    "    i += 1"
   ]
  },
  {
   "cell_type": "code",
   "execution_count": 5,
   "metadata": {
    "scrolled": true
   },
   "outputs": [
    {
     "data": {
      "text/plain": [
       "144"
      ]
     },
     "execution_count": 5,
     "metadata": {},
     "output_type": "execute_result"
    }
   ],
   "source": [
    "len(contains_list) - 1"
   ]
  },
  {
   "cell_type": "code",
   "execution_count": 6,
   "metadata": {},
   "outputs": [],
   "source": [
    "def get_new_data(text):\n",
    "    big_bag = \"\"\n",
    "    types_bag = []\n",
    "    text = text.split(\" contain \")\n",
    "    \n",
    "    big_bag = text[0]\n",
    "    types_bag = text[1].split(\", \")\n",
    "    types_bag = [bag.replace(\".\", \"\") for bag in types_bag]\n",
    "    \n",
    "    if big_bag[len(big_bag) - 1] == \"s\":\n",
    "        big_bag = big_bag[:-1]\n",
    "        \n",
    "    for i in range(len(types_bag)):\n",
    "        if types_bag[i][len(types_bag[i]) - 1] == \"s\":\n",
    "            types_bag[i] = types_bag[i][:-1]\n",
    "    types_bag = [bags.split(maxsplit=1) for bags in types_bag]\n",
    "    return big_bag, types_bag"
   ]
  },
  {
   "cell_type": "code",
   "execution_count": 7,
   "metadata": {},
   "outputs": [],
   "source": [
    "data = get_new_data(\"shiny gold bags contain 5 muted orange bags, 2 faded tan bags, 3 faded orange bags, 1 dull brown bag.\")"
   ]
  },
  {
   "cell_type": "code",
   "execution_count": 8,
   "metadata": {
    "scrolled": true
   },
   "outputs": [
    {
     "data": {
      "text/plain": [
       "('shiny gold bag',\n",
       " [['5', 'muted orange bag'],\n",
       "  ['2', 'faded tan bag'],\n",
       "  ['3', 'faded orange bag'],\n",
       "  ['1', 'dull brown bag']])"
      ]
     },
     "execution_count": 8,
     "metadata": {},
     "output_type": "execute_result"
    }
   ],
   "source": [
    "data"
   ]
  }
 ],
 "metadata": {
  "kernelspec": {
   "display_name": "Python 3",
   "language": "python",
   "name": "python3"
  },
  "language_info": {
   "codemirror_mode": {
    "name": "ipython",
    "version": 3
   },
   "file_extension": ".py",
   "mimetype": "text/x-python",
   "name": "python",
   "nbconvert_exporter": "python",
   "pygments_lexer": "ipython3",
   "version": "3.7.2"
  }
 },
 "nbformat": 4,
 "nbformat_minor": 4
}
