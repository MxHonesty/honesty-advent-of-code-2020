{
 "cells": [
  {
   "cell_type": "markdown",
   "metadata": {},
   "source": [
    "# How many passwords are valid according to the new interpretation of the policies?\n",
    "\n",
    "Each policy actually describes two positions in the password, where 1 means the first character, 2 means the second character, and so on. (Be careful; Toboggan Corporate Policies have no concept of \"index zero\"!) Exactly one of these positions must contain the given letter. Other occurrences of the letter are irrelevant for the purposes of policy enforcement.\n",
    "\n",
    "Given the same example list from above:\n",
    "\n",
    "    1-3 a: abcde is valid: position 1 contains a and position 3 does not.\n",
    "    1-3 b: cdefg is invalid: neither position 1 nor position 3 contains b.\n",
    "    2-9 c: ccccccccc is invalid: both position 2 and position 9 contain c.\n",
    "\n"
   ]
  },
  {
   "cell_type": "code",
   "execution_count": 1,
   "metadata": {},
   "outputs": [],
   "source": [
    "input_data = []\n",
    "with open(\"input.txt\") as f:\n",
    "    input_data = f.readlines()"
   ]
  },
  {
   "cell_type": "code",
   "execution_count": 2,
   "metadata": {},
   "outputs": [],
   "source": [
    "contor = 0"
   ]
  },
  {
   "cell_type": "code",
   "execution_count": 3,
   "metadata": {},
   "outputs": [],
   "source": [
    "def get_relevant_data(text):\n",
    "    \"\"\" Extracts the important data inside the string. \"\"\"\n",
    "    elements = text.split()  # [\"1-5\", \"a:\", password]\n",
    "    range_values = elements[0].split(\"-\")\n",
    "    \n",
    "    value_low = int(range_values[0])\n",
    "    value_high = int(range_values[1])\n",
    "    \n",
    "    litera = elements[1][:-1]\n",
    "    password = elements[2]\n",
    "    return value_low, value_high, litera, password"
   ]
  },
  {
   "cell_type": "code",
   "execution_count": 4,
   "metadata": {},
   "outputs": [],
   "source": [
    "def validate_password(low, high, litera, password):\n",
    "    correct = 0\n",
    "    try:\n",
    "        if password[low-1] == litera:\n",
    "            correct += 1\n",
    "        if password[high-1] == litera:\n",
    "            correct += 1\n",
    "    except IndexError:\n",
    "        if correct == 1:\n",
    "            return True\n",
    "    if correct == 1:\n",
    "        return True\n",
    "    return False"
   ]
  },
  {
   "cell_type": "code",
   "execution_count": 5,
   "metadata": {},
   "outputs": [],
   "source": [
    "for el in input_data:\n",
    "    low, high, litera, password = get_relevant_data(el)\n",
    "    if validate_password(low, high, litera, password):\n",
    "        contor += 1"
   ]
  },
  {
   "cell_type": "code",
   "execution_count": 6,
   "metadata": {},
   "outputs": [
    {
     "data": {
      "text/plain": [
       "708"
      ]
     },
     "execution_count": 6,
     "metadata": {},
     "output_type": "execute_result"
    }
   ],
   "source": [
    "contor"
   ]
  }
 ],
 "metadata": {
  "kernelspec": {
   "display_name": "Python 3",
   "language": "python",
   "name": "python3"
  },
  "language_info": {
   "codemirror_mode": {
    "name": "ipython",
    "version": 3
   },
   "file_extension": ".py",
   "mimetype": "text/x-python",
   "name": "python",
   "nbconvert_exporter": "python",
   "pygments_lexer": "ipython3",
   "version": "3.7.2"
  }
 },
 "nbformat": 4,
 "nbformat_minor": 4
}
