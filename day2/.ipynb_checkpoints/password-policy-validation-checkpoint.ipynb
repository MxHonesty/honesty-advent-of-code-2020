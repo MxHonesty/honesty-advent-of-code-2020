{
 "cells": [
  {
   "cell_type": "markdown",
   "metadata": {},
   "source": [
    "# How many passwords are valid according to their policies?\n",
    "\n",
    "1-3 a: abcde <br>\n",
    "1-3 b: cdefg <br>\n",
    "2-9 c: ccccccccc <br>\n",
    "\n",
    "Each line gives the password policy and then the password. The password policy indicates the lowest and highest number of times a given letter must appear for the password to be valid. For example, 1-3 a means that the password must contain a at least 1 time and at most 3 times.\n",
    "\n",
    "In the above example, 2 passwords are valid. The middle password, cdefg, is not; it contains no instances of b, but needs at least 1. The first and third passwords are valid: they contain one a or nine c, both within the limits of their respective policies."
   ]
  },
  {
   "cell_type": "code",
   "execution_count": 1,
   "metadata": {},
   "outputs": [],
   "source": [
    "input_data = []\n",
    "with open(\"input.txt\") as f:\n",
    "    input_data = f.readlines()"
   ]
  },
  {
   "cell_type": "code",
   "execution_count": 2,
   "metadata": {},
   "outputs": [],
   "source": [
    "contor = 0"
   ]
  },
  {
   "cell_type": "markdown",
   "metadata": {},
   "source": [
    "For each element in the list: determine the rule and validate the string. <br>\n",
    "If the string is validated, contor += 1."
   ]
  },
  {
   "cell_type": "code",
   "execution_count": 3,
   "metadata": {},
   "outputs": [],
   "source": [
    "def get_relevant_data(text):\n",
    "    \"\"\" Extracts the important data inside the string. \"\"\"\n",
    "    elements = text.split()  # [\"1-5\", \"a:\", password]\n",
    "    range_values = elements[0].split(\"-\")\n",
    "    \n",
    "    value_low = int(range_values[0])\n",
    "    value_high = int(range_values[1])\n",
    "    \n",
    "    litera = elements[1][:-1]\n",
    "    password = elements[2]\n",
    "    return value_low, value_high, litera, password\n",
    "    "
   ]
  },
  {
   "cell_type": "code",
   "execution_count": 4,
   "metadata": {},
   "outputs": [],
   "source": [
    "def validate_password(low, high, litera, password):\n",
    "    appear = 0\n",
    "    for char in password:\n",
    "        if char == litera:\n",
    "            appear += 1\n",
    "    if low <= appear <= high:\n",
    "        return True\n",
    "    else:\n",
    "        return False"
   ]
  },
  {
   "cell_type": "code",
   "execution_count": 5,
   "metadata": {},
   "outputs": [],
   "source": [
    "for el in input_data:\n",
    "    low, high, litera, password = get_relevant_data(el)\n",
    "    if validate_password(low, high, litera, password):\n",
    "        contor += 1"
   ]
  },
  {
   "cell_type": "code",
   "execution_count": 6,
   "metadata": {},
   "outputs": [
    {
     "data": {
      "text/plain": [
       "519"
      ]
     },
     "execution_count": 6,
     "metadata": {},
     "output_type": "execute_result"
    }
   ],
   "source": [
    "contor"
   ]
  }
 ],
 "metadata": {
  "kernelspec": {
   "display_name": "Python 3",
   "language": "python",
   "name": "python3"
  },
  "language_info": {
   "codemirror_mode": {
    "name": "ipython",
    "version": 3
   },
   "file_extension": ".py",
   "mimetype": "text/x-python",
   "name": "python",
   "nbconvert_exporter": "python",
   "pygments_lexer": "ipython3",
   "version": "3.7.2"
  }
 },
 "nbformat": 4,
 "nbformat_minor": 4
}
