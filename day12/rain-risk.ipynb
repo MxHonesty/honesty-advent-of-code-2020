{
 "cells": [
  {
   "cell_type": "markdown",
   "metadata": {},
   "source": [
    "# Figure out where the navigation instructions lead. What is the Manhattan distance between that location and the ship's starting position?\n",
    "\n",
    "The navigation instructions (your puzzle input) consists of a sequence of single-character actions paired with integer input values. After staring at them for a few minutes, you work out what they probably mean:\n",
    "\n",
    "    Action N means to move north by the given value.\n",
    "    Action S means to move south by the given value.\n",
    "    Action E means to move east by the given value.\n",
    "    Action W means to move west by the given value.\n",
    "    Action L means to turn left the given number of degrees.\n",
    "    Action R means to turn right the given number of degrees.\n",
    "    Action F means to move forward by the given value in the direction the ship is currently facing.\n",
    "\n",
    "For example:\n",
    "\n",
    "F10\n",
    "N3\n",
    "F7\n",
    "R90\n",
    "F11\n",
    "\n",
    "These instructions would be handled as follows:\n",
    "\n",
    "    F10 would move the ship 10 units east (because the ship starts by facing east) to east 10, north 0.\n",
    "    N3 would move the ship 3 units north to east 10, north 3.\n",
    "    F7 would move the ship another 7 units east (because the ship is still facing east) to east 17, north 3.\n",
    "    R90 would cause the ship to turn right by 90 degrees and face south; it remains at east 17, north 3.\n",
    "    F11 would move the ship 11 units south to east 17, south 8.\n",
    "\n",
    "At the end of these instructions, the ship's <b>Manhattan distance</b> (sum of the absolute values of its east/west position and its north/south position) from its starting position is 17 + 8 = 25."
   ]
  },
  {
   "cell_type": "markdown",
   "metadata": {},
   "source": [
    "Manhattan distance. <b>Red, blue, yellow</b> are all the <b>shortest</b> Manhattan distance between the points. The green line is the euclidian shortest distance. <img src=\"https://upload.wikimedia.org/wikipedia/commons/thumb/0/08/Manhattan_distance.svg/1024px-Manhattan_distance.svg.png\" alt=\"Drawing\" style=\"width: 350px;\"/>"
   ]
  },
  {
   "cell_type": "code",
   "execution_count": 1,
   "metadata": {},
   "outputs": [],
   "source": [
    "input_data = []\n",
    "with open(\"input.txt\") as f:\n",
    "    input_data = [line.replace(\"\\n\", \"\") for line in f.readlines()]"
   ]
  },
  {
   "cell_type": "markdown",
   "metadata": {},
   "source": [
    "Declared a dictionary for mapping each character to a function."
   ]
  },
  {
   "cell_type": "code",
   "execution_count": 2,
   "metadata": {},
   "outputs": [],
   "source": [
    "def parse_instruction(instruction, state):\n",
    "    \"\"\" Turns the instruction string into the corresponding action. \"\"\"\n",
    "    optiuni = {\"N\": go_north, \"S\": go_south, \"E\": go_east, \"W\": go_west,\n",
    "               \"L\": turn_left, \"R\": turn_right, \"F\": go_forward}\n",
    "    caracter = instruction[0]\n",
    "    number = int(instruction[1:])\n",
    "    optiuni[caracter](number, state)  # Each function takes the number as parameter."
   ]
  },
  {
   "cell_type": "markdown",
   "metadata": {},
   "source": [
    "Declaring all the movement functions. Declaring the initial pozitions."
   ]
  },
  {
   "cell_type": "code",
   "execution_count": 3,
   "metadata": {},
   "outputs": [],
   "source": [
    "class State:\n",
    "    def __init__(self):\n",
    "        self.x = 0\n",
    "        self.y = 0\n",
    "        self.facing = 0  # 0 - East, 1 - North, 2 - West, 3 - South"
   ]
  },
  {
   "cell_type": "code",
   "execution_count": 4,
   "metadata": {},
   "outputs": [],
   "source": [
    "def go_north(value, state):\n",
    "    state.y += value\n",
    "\n",
    "def go_south(value, state):\n",
    "    state.y -= value\n",
    "\n",
    "def go_east(value, state):\n",
    "    state.x += value\n",
    "\n",
    "def go_west(value, state):\n",
    "    state.x -= value\n",
    "\n",
    "def turn_left(value, state):\n",
    "    value = value / 90\n",
    "    state.facing += value\n",
    "    while state.facing > 3:\n",
    "        state.facing -= 4\n",
    "\n",
    "def turn_right(value, state):\n",
    "    value = value / 90\n",
    "    state.facing -= value\n",
    "    while state.facing <0:\n",
    "        state.facing += 4\n",
    "\n",
    "def go_forward(value, state):\n",
    "    if state.facing == 0:\n",
    "        go_east(value, state)\n",
    "    elif state.facing == 1:\n",
    "        go_north(value, state)\n",
    "    elif state.facing == 2:\n",
    "        go_west(value, state)\n",
    "    elif state.facing == 3:\n",
    "        go_south(value, state)"
   ]
  },
  {
   "cell_type": "code",
   "execution_count": 5,
   "metadata": {},
   "outputs": [
    {
     "data": {
      "text/plain": [
       "(678, -1780)"
      ]
     },
     "execution_count": 5,
     "metadata": {},
     "output_type": "execute_result"
    }
   ],
   "source": [
    "state = State()\n",
    "for el in input_data:\n",
    "    parse_instruction(el, state)\n",
    "\n",
    "state.x, state.y"
   ]
  },
  {
   "cell_type": "code",
   "execution_count": 6,
   "metadata": {},
   "outputs": [
    {
     "name": "stdout",
     "output_type": "stream",
     "text": [
      "2458\n"
     ]
    }
   ],
   "source": [
    "print(abs(state.x) + abs(state.y))"
   ]
  },
  {
   "cell_type": "markdown",
   "metadata": {},
   "source": [
    "# Figure out where the navigation instructions actually lead. What is the Manhattan distance between that location and the ship's starting position?\n",
    "\n",
    "Almost all of the actions indicate how to move a waypoint which is relative to the ship's position:\n",
    "\n",
    "    Action N means to move the waypoint north by the given value.\n",
    "    Action S means to move the waypoint south by the given value.\n",
    "    Action E means to move the waypoint east by the given value.\n",
    "    Action W means to move the waypoint west by the given value.\n",
    "    Action L means to rotate the waypoint around the ship left (counter-clockwise) the given number of degrees.\n",
    "    Action R means to rotate the waypoint around the ship right (clockwise) the given number of degrees.\n",
    "    Action F means to move forward to the waypoint a number of times equal to the given value.\n",
    "\n",
    "The waypoint starts 10 units east and 1 unit north relative to the ship. The waypoint is relative to the ship; that is, if the ship moves, the waypoint moves with it.\n",
    "\n",
    "For example, using the same instructions as above:\n",
    "\n",
    "    F10 moves the ship to the waypoint 10 times (a total of 100 units east and 10 units north), leaving the ship at east 100, north 10. The waypoint stays 10 units east and 1 unit north of the ship.\n",
    "    N3 moves the waypoint 3 units north to 10 units east and 4 units north of the ship. The ship remains at east 100, north 10.\n",
    "    F7 moves the ship to the waypoint 7 times (a total of 70 units east and 28 units north), leaving the ship at east 170, north 38. The waypoint stays 10 units east and 4 units north of the ship.\n",
    "    R90 rotates the waypoint around the ship clockwise 90 degrees, moving it to 4 units east and 10 units south of the ship. The ship remains at east 170, north 38.\n",
    "    F11 moves the ship to the waypoint 11 times (a total of 44 units east and 110 units south), leaving the ship at east 214, south 72. The waypoint stays 4 units east and 10 units south of the ship.\n",
    "\n",
    "After these operations, the ship's Manhattan distance from its starting position is 214 + 72 = 286.\n",
    "\n"
   ]
  },
  {
   "cell_type": "markdown",
   "metadata": {},
   "source": [
    "Redefining the movement functions. "
   ]
  },
  {
   "cell_type": "code",
   "execution_count": 7,
   "metadata": {},
   "outputs": [],
   "source": [
    "def parse_instruction(instruction, state_ship, state_waypoint):\n",
    "    \"\"\" Turns the instruction string into the corresponding action. \"\"\"\n",
    "    optiuni = {\"N\": go_north, \"S\": go_south, \"E\": go_east, \"W\": go_west,\n",
    "               \"L\": turn_left, \"R\": turn_right, \"F\": go_forward}\n",
    "    caracter = instruction[0]\n",
    "    number = int(instruction[1:])\n",
    "    optiuni[caracter](number, state_ship, state_waypoint)  # Each function takes the number as parameter."
   ]
  },
  {
   "cell_type": "code",
   "execution_count": 8,
   "metadata": {},
   "outputs": [],
   "source": [
    "def go_north(value, ship, waypoint):\n",
    "    waypoint.y += value\n",
    "\n",
    "def go_south(value, ship, waypoint):\n",
    "    waypoint.y -= value\n",
    "\n",
    "def go_east(value, ship, waypoint):\n",
    "    waypoint.x += value\n",
    "\n",
    "def go_west(value, ship, waypoint):\n",
    "    waypoint.x -= value\n",
    "\n",
    "def turn_left(value, ship, waypoint):\n",
    "    for i in range(int(value / 90)):\n",
    "        init_x = waypoint.x\n",
    "        init_y = waypoint.y\n",
    "        if ship.facing == 0:\n",
    "            waypoint.x = -init_y\n",
    "            waypoint.y = init_x\n",
    "            ship.facing = 1\n",
    "        elif ship.facing == 1:\n",
    "            waypoint.x = -init_y\n",
    "            waypoint.y = init_x\n",
    "            ship.facing = 2\n",
    "        elif ship.facing == 2:\n",
    "            waypoint.x = -init_y\n",
    "            waypoint.y = init_x\n",
    "            ship.facing = 3\n",
    "        elif ship.facing == 3:\n",
    "            waypoint.x = -init_y\n",
    "            waypoint.y = init_x\n",
    "            ship.facing = 0\n",
    "        \n",
    "def turn_right(value, ship, waypoint):\n",
    "    for i in range(int(value / 90)):\n",
    "        init_x = waypoint.x\n",
    "        init_y = waypoint.y\n",
    "        if ship.facing == 0:\n",
    "            waypoint.x = init_y\n",
    "            waypoint.y = -init_x\n",
    "            ship.facing = 3\n",
    "        elif ship.facing == 1:\n",
    "            waypoint.x = init_y\n",
    "            waypoint.y = -init_x\n",
    "            ship.facing = 0\n",
    "        elif ship.facing == 2:\n",
    "            waypoint.x = init_y\n",
    "            waypoint.y = -init_x\n",
    "            ship.facing = 1\n",
    "        elif ship.facing == 3:\n",
    "            waypoint.x = init_y\n",
    "            waypoint.y = -init_x\n",
    "            ship.facing = 2\n",
    "\n",
    "def go_forward(value, ship, waypoint):\n",
    "    ship.x += value * waypoint.x\n",
    "    ship.y += value * waypoint.y"
   ]
  },
  {
   "cell_type": "code",
   "execution_count": 9,
   "metadata": {},
   "outputs": [],
   "source": [
    "ship = State()\n",
    "waypoint = State()\n",
    "waypoint.x = 10\n",
    "waypoint.y = 1\n",
    "for el in input_data:\n",
    "    parse_instruction(el, ship, waypoint)\n",
    "    "
   ]
  },
  {
   "cell_type": "code",
   "execution_count": 10,
   "metadata": {},
   "outputs": [
    {
     "name": "stdout",
     "output_type": "stream",
     "text": [
      "145117\n"
     ]
    }
   ],
   "source": [
    "print(abs(ship.x) + abs(ship.y))"
   ]
  }
 ],
 "metadata": {
  "kernelspec": {
   "display_name": "Python 3",
   "language": "python",
   "name": "python3"
  },
  "language_info": {
   "codemirror_mode": {
    "name": "ipython",
    "version": 3
   },
   "file_extension": ".py",
   "mimetype": "text/x-python",
   "name": "python",
   "nbconvert_exporter": "python",
   "pygments_lexer": "ipython3",
   "version": "3.7.2"
  }
 },
 "nbformat": 4,
 "nbformat_minor": 4
}
